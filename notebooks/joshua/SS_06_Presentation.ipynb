{
 "cells": [
  {
   "cell_type": "code",
   "execution_count": 1,
   "id": "43a2ea8a",
   "metadata": {
    "slideshow": {
     "slide_type": "skip"
    }
   },
   "outputs": [],
   "source": [
    "import requests\n",
    "from bs4 import BeautifulSoup as BS\n",
    "import numpy as np\n",
    "import pandas as pd\n",
    "import re\n",
    "import statsmodels.api as sm\n",
    "import statsmodels.graphics as g\n",
    "import statsmodels.formula.api as smf\n",
    "import matplotlib.pyplot as plt\n",
    "import seaborn as sns\n",
    "import time\n",
    "import matplotlib.ticker as mtick\n",
    "from IPython.display import display\n",
    "# from jupyterthemes import jtplot\n",
    "# jtplot.style()"
   ]
  },
  {
   "cell_type": "markdown",
   "id": "56f269d3",
   "metadata": {
    "slideshow": {
     "slide_type": "skip"
    }
   },
   "source": [
    "# Hide Code in Slideshow"
   ]
  },
  {
   "cell_type": "code",
   "execution_count": 2,
   "id": "c48e43ed",
   "metadata": {
    "slideshow": {
     "slide_type": "skip"
    }
   },
   "outputs": [],
   "source": [
    "def hide_code_in_slideshow():   \n",
    "    from IPython import display\n",
    "    import binascii\n",
    "    import os\n",
    "    uid = binascii.hexlify(os.urandom(8)).decode()    \n",
    "    html = \"\"\"<div id=\"%s\"></div>\n",
    "    <script type=\"text/javascript\">\n",
    "        $(function(){\n",
    "            var p = $(\"#%s\");\n",
    "            if (p.length==0) return;\n",
    "            while (!p.hasClass(\"cell\")) {\n",
    "                p=p.parent();\n",
    "                if (p.prop(\"tagName\") ==\"body\") return;\n",
    "            }\n",
    "            var cell = p;\n",
    "            cell.find(\".input\").addClass(\"hide-in-slideshow\")\n",
    "        });\n",
    "    </script>\"\"\" % (uid, uid)\n",
    "    display.display_html(html, raw=True)"
   ]
  },
  {
   "cell_type": "markdown",
   "id": "8db44ead",
   "metadata": {
    "slideshow": {
     "slide_type": "skip"
    }
   },
   "source": [
    "# MVP"
   ]
  },
  {
   "cell_type": "markdown",
   "id": "26a9241d",
   "metadata": {
    "slideshow": {
     "slide_type": "skip"
    }
   },
   "source": [
    "## Read In"
   ]
  },
  {
   "cell_type": "code",
   "execution_count": 3,
   "id": "454632fe",
   "metadata": {
    "slideshow": {
     "slide_type": "skip"
    }
   },
   "outputs": [
    {
     "data": {
      "text/html": [
       "<div>\n",
       "<style scoped>\n",
       "    .dataframe tbody tr th:only-of-type {\n",
       "        vertical-align: middle;\n",
       "    }\n",
       "\n",
       "    .dataframe tbody tr th {\n",
       "        vertical-align: top;\n",
       "    }\n",
       "\n",
       "    .dataframe thead th {\n",
       "        text-align: right;\n",
       "    }\n",
       "</style>\n",
       "<table border=\"1\" class=\"dataframe\">\n",
       "  <thead>\n",
       "    <tr style=\"text-align: right;\">\n",
       "      <th></th>\n",
       "      <th>state</th>\n",
       "      <th>code</th>\n",
       "      <th>representatives</th>\n",
       "    </tr>\n",
       "  </thead>\n",
       "  <tbody>\n",
       "    <tr>\n",
       "      <th>0</th>\n",
       "      <td>Alabama</td>\n",
       "      <td>AL</td>\n",
       "      <td>7</td>\n",
       "    </tr>\n",
       "    <tr>\n",
       "      <th>1</th>\n",
       "      <td>Alaska</td>\n",
       "      <td>AK</td>\n",
       "      <td>1</td>\n",
       "    </tr>\n",
       "    <tr>\n",
       "      <th>2</th>\n",
       "      <td>Arizona</td>\n",
       "      <td>AZ</td>\n",
       "      <td>9</td>\n",
       "    </tr>\n",
       "    <tr>\n",
       "      <th>3</th>\n",
       "      <td>Arkansas</td>\n",
       "      <td>AR</td>\n",
       "      <td>4</td>\n",
       "    </tr>\n",
       "    <tr>\n",
       "      <th>4</th>\n",
       "      <td>California</td>\n",
       "      <td>CA</td>\n",
       "      <td>53</td>\n",
       "    </tr>\n",
       "    <tr>\n",
       "      <th>5</th>\n",
       "      <td>Colorado</td>\n",
       "      <td>CO</td>\n",
       "      <td>7</td>\n",
       "    </tr>\n",
       "    <tr>\n",
       "      <th>6</th>\n",
       "      <td>Connecticut</td>\n",
       "      <td>CT</td>\n",
       "      <td>5</td>\n",
       "    </tr>\n",
       "    <tr>\n",
       "      <th>7</th>\n",
       "      <td>Delaware</td>\n",
       "      <td>DE</td>\n",
       "      <td>1</td>\n",
       "    </tr>\n",
       "    <tr>\n",
       "      <th>8</th>\n",
       "      <td>Florida</td>\n",
       "      <td>FL</td>\n",
       "      <td>27</td>\n",
       "    </tr>\n",
       "    <tr>\n",
       "      <th>9</th>\n",
       "      <td>Georgia</td>\n",
       "      <td>GA</td>\n",
       "      <td>14</td>\n",
       "    </tr>\n",
       "    <tr>\n",
       "      <th>10</th>\n",
       "      <td>Hawaii</td>\n",
       "      <td>HI</td>\n",
       "      <td>2</td>\n",
       "    </tr>\n",
       "    <tr>\n",
       "      <th>11</th>\n",
       "      <td>Idaho</td>\n",
       "      <td>ID</td>\n",
       "      <td>2</td>\n",
       "    </tr>\n",
       "    <tr>\n",
       "      <th>12</th>\n",
       "      <td>Illinois</td>\n",
       "      <td>IL</td>\n",
       "      <td>18</td>\n",
       "    </tr>\n",
       "    <tr>\n",
       "      <th>13</th>\n",
       "      <td>Indiana</td>\n",
       "      <td>IN</td>\n",
       "      <td>9</td>\n",
       "    </tr>\n",
       "    <tr>\n",
       "      <th>14</th>\n",
       "      <td>Iowa</td>\n",
       "      <td>IA</td>\n",
       "      <td>4</td>\n",
       "    </tr>\n",
       "    <tr>\n",
       "      <th>15</th>\n",
       "      <td>Kansas</td>\n",
       "      <td>KS</td>\n",
       "      <td>4</td>\n",
       "    </tr>\n",
       "    <tr>\n",
       "      <th>16</th>\n",
       "      <td>Kentucky</td>\n",
       "      <td>KY</td>\n",
       "      <td>6</td>\n",
       "    </tr>\n",
       "    <tr>\n",
       "      <th>17</th>\n",
       "      <td>Louisiana</td>\n",
       "      <td>LA</td>\n",
       "      <td>6</td>\n",
       "    </tr>\n",
       "    <tr>\n",
       "      <th>18</th>\n",
       "      <td>Maine</td>\n",
       "      <td>ME</td>\n",
       "      <td>2</td>\n",
       "    </tr>\n",
       "    <tr>\n",
       "      <th>19</th>\n",
       "      <td>Maryland</td>\n",
       "      <td>MD</td>\n",
       "      <td>8</td>\n",
       "    </tr>\n",
       "    <tr>\n",
       "      <th>20</th>\n",
       "      <td>Massachusetts</td>\n",
       "      <td>MA</td>\n",
       "      <td>9</td>\n",
       "    </tr>\n",
       "    <tr>\n",
       "      <th>21</th>\n",
       "      <td>Michigan</td>\n",
       "      <td>MI</td>\n",
       "      <td>14</td>\n",
       "    </tr>\n",
       "    <tr>\n",
       "      <th>22</th>\n",
       "      <td>Minnesota</td>\n",
       "      <td>MN</td>\n",
       "      <td>8</td>\n",
       "    </tr>\n",
       "    <tr>\n",
       "      <th>23</th>\n",
       "      <td>Mississippi</td>\n",
       "      <td>MS</td>\n",
       "      <td>4</td>\n",
       "    </tr>\n",
       "    <tr>\n",
       "      <th>24</th>\n",
       "      <td>Missouri</td>\n",
       "      <td>MO</td>\n",
       "      <td>8</td>\n",
       "    </tr>\n",
       "    <tr>\n",
       "      <th>25</th>\n",
       "      <td>Montana</td>\n",
       "      <td>MT</td>\n",
       "      <td>1</td>\n",
       "    </tr>\n",
       "    <tr>\n",
       "      <th>26</th>\n",
       "      <td>Nebraska</td>\n",
       "      <td>NE</td>\n",
       "      <td>3</td>\n",
       "    </tr>\n",
       "    <tr>\n",
       "      <th>27</th>\n",
       "      <td>Nevada</td>\n",
       "      <td>NV</td>\n",
       "      <td>4</td>\n",
       "    </tr>\n",
       "    <tr>\n",
       "      <th>28</th>\n",
       "      <td>New Hampshire</td>\n",
       "      <td>NH</td>\n",
       "      <td>2</td>\n",
       "    </tr>\n",
       "    <tr>\n",
       "      <th>29</th>\n",
       "      <td>New Jersey</td>\n",
       "      <td>NJ</td>\n",
       "      <td>12</td>\n",
       "    </tr>\n",
       "    <tr>\n",
       "      <th>30</th>\n",
       "      <td>New Mexico</td>\n",
       "      <td>NM</td>\n",
       "      <td>3</td>\n",
       "    </tr>\n",
       "    <tr>\n",
       "      <th>31</th>\n",
       "      <td>New York</td>\n",
       "      <td>NY</td>\n",
       "      <td>27</td>\n",
       "    </tr>\n",
       "    <tr>\n",
       "      <th>32</th>\n",
       "      <td>North Carolina</td>\n",
       "      <td>NC</td>\n",
       "      <td>13</td>\n",
       "    </tr>\n",
       "    <tr>\n",
       "      <th>33</th>\n",
       "      <td>North Dakota</td>\n",
       "      <td>ND</td>\n",
       "      <td>1</td>\n",
       "    </tr>\n",
       "    <tr>\n",
       "      <th>34</th>\n",
       "      <td>Ohio</td>\n",
       "      <td>OH</td>\n",
       "      <td>16</td>\n",
       "    </tr>\n",
       "    <tr>\n",
       "      <th>35</th>\n",
       "      <td>Oklahoma</td>\n",
       "      <td>OK</td>\n",
       "      <td>5</td>\n",
       "    </tr>\n",
       "    <tr>\n",
       "      <th>36</th>\n",
       "      <td>Oregon</td>\n",
       "      <td>OR</td>\n",
       "      <td>5</td>\n",
       "    </tr>\n",
       "    <tr>\n",
       "      <th>37</th>\n",
       "      <td>Pennsylvania</td>\n",
       "      <td>PA</td>\n",
       "      <td>18</td>\n",
       "    </tr>\n",
       "    <tr>\n",
       "      <th>38</th>\n",
       "      <td>Rhode Island</td>\n",
       "      <td>RI</td>\n",
       "      <td>2</td>\n",
       "    </tr>\n",
       "    <tr>\n",
       "      <th>39</th>\n",
       "      <td>South Carolina</td>\n",
       "      <td>SC</td>\n",
       "      <td>7</td>\n",
       "    </tr>\n",
       "    <tr>\n",
       "      <th>40</th>\n",
       "      <td>South Dakota</td>\n",
       "      <td>SD</td>\n",
       "      <td>1</td>\n",
       "    </tr>\n",
       "    <tr>\n",
       "      <th>41</th>\n",
       "      <td>Tennessee</td>\n",
       "      <td>TN</td>\n",
       "      <td>9</td>\n",
       "    </tr>\n",
       "    <tr>\n",
       "      <th>42</th>\n",
       "      <td>Texas</td>\n",
       "      <td>TX</td>\n",
       "      <td>36</td>\n",
       "    </tr>\n",
       "    <tr>\n",
       "      <th>43</th>\n",
       "      <td>Utah</td>\n",
       "      <td>UT</td>\n",
       "      <td>4</td>\n",
       "    </tr>\n",
       "    <tr>\n",
       "      <th>44</th>\n",
       "      <td>Vermont</td>\n",
       "      <td>VT</td>\n",
       "      <td>1</td>\n",
       "    </tr>\n",
       "    <tr>\n",
       "      <th>45</th>\n",
       "      <td>Virginia</td>\n",
       "      <td>VA</td>\n",
       "      <td>11</td>\n",
       "    </tr>\n",
       "    <tr>\n",
       "      <th>46</th>\n",
       "      <td>Washington</td>\n",
       "      <td>WA</td>\n",
       "      <td>10</td>\n",
       "    </tr>\n",
       "    <tr>\n",
       "      <th>47</th>\n",
       "      <td>West Virginia</td>\n",
       "      <td>WV</td>\n",
       "      <td>3</td>\n",
       "    </tr>\n",
       "    <tr>\n",
       "      <th>48</th>\n",
       "      <td>Wisconsin</td>\n",
       "      <td>WI</td>\n",
       "      <td>8</td>\n",
       "    </tr>\n",
       "    <tr>\n",
       "      <th>49</th>\n",
       "      <td>Wyoming</td>\n",
       "      <td>WY</td>\n",
       "      <td>1</td>\n",
       "    </tr>\n",
       "  </tbody>\n",
       "</table>\n",
       "</div>"
      ],
      "text/plain": [
       "             state code  representatives\n",
       "0          Alabama   AL                7\n",
       "1           Alaska   AK                1\n",
       "2          Arizona   AZ                9\n",
       "3         Arkansas   AR                4\n",
       "4       California   CA               53\n",
       "5         Colorado   CO                7\n",
       "6      Connecticut   CT                5\n",
       "7         Delaware   DE                1\n",
       "8          Florida   FL               27\n",
       "9          Georgia   GA               14\n",
       "10          Hawaii   HI                2\n",
       "11           Idaho   ID                2\n",
       "12        Illinois   IL               18\n",
       "13         Indiana   IN                9\n",
       "14            Iowa   IA                4\n",
       "15          Kansas   KS                4\n",
       "16        Kentucky   KY                6\n",
       "17       Louisiana   LA                6\n",
       "18           Maine   ME                2\n",
       "19        Maryland   MD                8\n",
       "20   Massachusetts   MA                9\n",
       "21        Michigan   MI               14\n",
       "22       Minnesota   MN                8\n",
       "23     Mississippi   MS                4\n",
       "24        Missouri   MO                8\n",
       "25         Montana   MT                1\n",
       "26        Nebraska   NE                3\n",
       "27          Nevada   NV                4\n",
       "28   New Hampshire   NH                2\n",
       "29      New Jersey   NJ               12\n",
       "30      New Mexico   NM                3\n",
       "31        New York   NY               27\n",
       "32  North Carolina   NC               13\n",
       "33    North Dakota   ND                1\n",
       "34            Ohio   OH               16\n",
       "35        Oklahoma   OK                5\n",
       "36          Oregon   OR                5\n",
       "37    Pennsylvania   PA               18\n",
       "38    Rhode Island   RI                2\n",
       "39  South Carolina   SC                7\n",
       "40    South Dakota   SD                1\n",
       "41       Tennessee   TN                9\n",
       "42           Texas   TX               36\n",
       "43            Utah   UT                4\n",
       "44         Vermont   VT                1\n",
       "45        Virginia   VA               11\n",
       "46      Washington   WA               10\n",
       "47   West Virginia   WV                3\n",
       "48       Wisconsin   WI                8\n",
       "49         Wyoming   WY                1"
      ]
     },
     "execution_count": 3,
     "metadata": {},
     "output_type": "execute_result"
    }
   ],
   "source": [
    "states = pd.read_csv('../data/state_reps_ref.csv')\n",
    "states = states.rename(columns = {'abbreviation': 'code'})\n",
    "states"
   ]
  },
  {
   "cell_type": "code",
   "execution_count": 4,
   "id": "c04e4fc2",
   "metadata": {
    "slideshow": {
     "slide_type": "skip"
    }
   },
   "outputs": [
    {
     "data": {
      "text/html": [
       "<div>\n",
       "<style scoped>\n",
       "    .dataframe tbody tr th:only-of-type {\n",
       "        vertical-align: middle;\n",
       "    }\n",
       "\n",
       "    .dataframe tbody tr th {\n",
       "        vertical-align: top;\n",
       "    }\n",
       "\n",
       "    .dataframe thead th {\n",
       "        text-align: right;\n",
       "    }\n",
       "</style>\n",
       "<table border=\"1\" class=\"dataframe\">\n",
       "  <thead>\n",
       "    <tr style=\"text-align: right;\">\n",
       "      <th></th>\n",
       "      <th>district</th>\n",
       "      <th>name</th>\n",
       "      <th>party</th>\n",
       "      <th>incumbent</th>\n",
       "      <th>winner</th>\n",
       "      <th>raised</th>\n",
       "      <th>spent</th>\n",
       "      <th>state</th>\n",
       "    </tr>\n",
       "  </thead>\n",
       "  <tbody>\n",
       "    <tr>\n",
       "      <th>0</th>\n",
       "      <td>AL01</td>\n",
       "      <td>Jerry Carl</td>\n",
       "      <td>R</td>\n",
       "      <td>False</td>\n",
       "      <td>True</td>\n",
       "      <td>1971321</td>\n",
       "      <td>1859349</td>\n",
       "      <td>Alabama</td>\n",
       "    </tr>\n",
       "    <tr>\n",
       "      <th>1</th>\n",
       "      <td>AL01</td>\n",
       "      <td>James Averhart</td>\n",
       "      <td>D</td>\n",
       "      <td>False</td>\n",
       "      <td>False</td>\n",
       "      <td>80095</td>\n",
       "      <td>78973</td>\n",
       "      <td>Alabama</td>\n",
       "    </tr>\n",
       "    <tr>\n",
       "      <th>2</th>\n",
       "      <td>AL02</td>\n",
       "      <td>Barry Moore</td>\n",
       "      <td>R</td>\n",
       "      <td>False</td>\n",
       "      <td>True</td>\n",
       "      <td>650807</td>\n",
       "      <td>669368</td>\n",
       "      <td>Alabama</td>\n",
       "    </tr>\n",
       "    <tr>\n",
       "      <th>3</th>\n",
       "      <td>AL02</td>\n",
       "      <td>Phyllis Harvey-Hall</td>\n",
       "      <td>D</td>\n",
       "      <td>False</td>\n",
       "      <td>False</td>\n",
       "      <td>56050</td>\n",
       "      <td>55988</td>\n",
       "      <td>Alabama</td>\n",
       "    </tr>\n",
       "    <tr>\n",
       "      <th>4</th>\n",
       "      <td>AL03</td>\n",
       "      <td>Mike D Rogers</td>\n",
       "      <td>R</td>\n",
       "      <td>True</td>\n",
       "      <td>True</td>\n",
       "      <td>1193111</td>\n",
       "      <td>1218564</td>\n",
       "      <td>Alabama</td>\n",
       "    </tr>\n",
       "    <tr>\n",
       "      <th>...</th>\n",
       "      <td>...</td>\n",
       "      <td>...</td>\n",
       "      <td>...</td>\n",
       "      <td>...</td>\n",
       "      <td>...</td>\n",
       "      <td>...</td>\n",
       "      <td>...</td>\n",
       "      <td>...</td>\n",
       "    </tr>\n",
       "    <tr>\n",
       "      <th>889</th>\n",
       "      <td>WI07</td>\n",
       "      <td>Tricia Zunker</td>\n",
       "      <td>D</td>\n",
       "      <td>False</td>\n",
       "      <td>False</td>\n",
       "      <td>1261957</td>\n",
       "      <td>1232690</td>\n",
       "      <td>Wisconsin</td>\n",
       "    </tr>\n",
       "    <tr>\n",
       "      <th>890</th>\n",
       "      <td>WI08</td>\n",
       "      <td>Mike Gallagher</td>\n",
       "      <td>R</td>\n",
       "      <td>True</td>\n",
       "      <td>True</td>\n",
       "      <td>3202905</td>\n",
       "      <td>2841801</td>\n",
       "      <td>Wisconsin</td>\n",
       "    </tr>\n",
       "    <tr>\n",
       "      <th>891</th>\n",
       "      <td>WI08</td>\n",
       "      <td>Amanda Stuck</td>\n",
       "      <td>D</td>\n",
       "      <td>False</td>\n",
       "      <td>False</td>\n",
       "      <td>416978</td>\n",
       "      <td>399916</td>\n",
       "      <td>Wisconsin</td>\n",
       "    </tr>\n",
       "    <tr>\n",
       "      <th>892</th>\n",
       "      <td>WY01</td>\n",
       "      <td>Liz Cheney</td>\n",
       "      <td>R</td>\n",
       "      <td>True</td>\n",
       "      <td>True</td>\n",
       "      <td>3003883</td>\n",
       "      <td>3060167</td>\n",
       "      <td>Wyoming</td>\n",
       "    </tr>\n",
       "    <tr>\n",
       "      <th>893</th>\n",
       "      <td>WY01</td>\n",
       "      <td>Lynnette Grey Bull</td>\n",
       "      <td>D</td>\n",
       "      <td>False</td>\n",
       "      <td>False</td>\n",
       "      <td>134597</td>\n",
       "      <td>132235</td>\n",
       "      <td>Wyoming</td>\n",
       "    </tr>\n",
       "  </tbody>\n",
       "</table>\n",
       "<p>894 rows × 8 columns</p>\n",
       "</div>"
      ],
      "text/plain": [
       "    district                  name party  incumbent  winner   raised    spent  \\\n",
       "0       AL01           Jerry Carl      R      False    True  1971321  1859349   \n",
       "1       AL01       James Averhart      D      False   False    80095    78973   \n",
       "2       AL02          Barry Moore      R      False    True   650807   669368   \n",
       "3       AL02  Phyllis Harvey-Hall      D      False   False    56050    55988   \n",
       "4       AL03        Mike D Rogers      R       True    True  1193111  1218564   \n",
       "..       ...                   ...   ...        ...     ...      ...      ...   \n",
       "889     WI07        Tricia Zunker      D      False   False  1261957  1232690   \n",
       "890     WI08       Mike Gallagher      R       True    True  3202905  2841801   \n",
       "891     WI08         Amanda Stuck      D      False   False   416978   399916   \n",
       "892     WY01           Liz Cheney      R       True    True  3003883  3060167   \n",
       "893     WY01   Lynnette Grey Bull      D      False   False   134597   132235   \n",
       "\n",
       "         state  \n",
       "0      Alabama  \n",
       "1      Alabama  \n",
       "2      Alabama  \n",
       "3      Alabama  \n",
       "4      Alabama  \n",
       "..         ...  \n",
       "889  Wisconsin  \n",
       "890  Wisconsin  \n",
       "891  Wisconsin  \n",
       "892    Wyoming  \n",
       "893    Wyoming  \n",
       "\n",
       "[894 rows x 8 columns]"
      ]
     },
     "execution_count": 4,
     "metadata": {},
     "output_type": "execute_result"
    }
   ],
   "source": [
    "# Read in campaign-funds data from Problem 3\n",
    "US = pd.read_csv('../data/us_rep_elections.csv')\n",
    "US"
   ]
  },
  {
   "cell_type": "code",
   "execution_count": 5,
   "id": "58acf23a",
   "metadata": {
    "slideshow": {
     "slide_type": "skip"
    }
   },
   "outputs": [
    {
     "data": {
      "text/html": [
       "<div>\n",
       "<style scoped>\n",
       "    .dataframe tbody tr th:only-of-type {\n",
       "        vertical-align: middle;\n",
       "    }\n",
       "\n",
       "    .dataframe tbody tr th {\n",
       "        vertical-align: top;\n",
       "    }\n",
       "\n",
       "    .dataframe thead th {\n",
       "        text-align: right;\n",
       "    }\n",
       "</style>\n",
       "<table border=\"1\" class=\"dataframe\">\n",
       "  <thead>\n",
       "    <tr style=\"text-align: right;\">\n",
       "      <th></th>\n",
       "      <th>state</th>\n",
       "      <th>district</th>\n",
       "      <th>name</th>\n",
       "      <th>party</th>\n",
       "      <th>incumbent</th>\n",
       "      <th>winner</th>\n",
       "      <th>type of contribution</th>\n",
       "      <th>amount</th>\n",
       "      <th>percentage</th>\n",
       "    </tr>\n",
       "  </thead>\n",
       "  <tbody>\n",
       "    <tr>\n",
       "      <th>0</th>\n",
       "      <td>Alabama</td>\n",
       "      <td>AL01</td>\n",
       "      <td>Jerry Carl</td>\n",
       "      <td>R</td>\n",
       "      <td>False</td>\n",
       "      <td>True</td>\n",
       "      <td>Small Individual Contributions (≤ $200)</td>\n",
       "      <td>44580</td>\n",
       "      <td>0.0226</td>\n",
       "    </tr>\n",
       "    <tr>\n",
       "      <th>1</th>\n",
       "      <td>Alabama</td>\n",
       "      <td>AL01</td>\n",
       "      <td>Jerry Carl</td>\n",
       "      <td>R</td>\n",
       "      <td>False</td>\n",
       "      <td>True</td>\n",
       "      <td>Large Individual Contributions</td>\n",
       "      <td>999616</td>\n",
       "      <td>0.5071</td>\n",
       "    </tr>\n",
       "    <tr>\n",
       "      <th>2</th>\n",
       "      <td>Alabama</td>\n",
       "      <td>AL01</td>\n",
       "      <td>Jerry Carl</td>\n",
       "      <td>R</td>\n",
       "      <td>False</td>\n",
       "      <td>True</td>\n",
       "      <td>PAC Contributions*</td>\n",
       "      <td>387000</td>\n",
       "      <td>0.1963</td>\n",
       "    </tr>\n",
       "    <tr>\n",
       "      <th>3</th>\n",
       "      <td>Alabama</td>\n",
       "      <td>AL01</td>\n",
       "      <td>Jerry Carl</td>\n",
       "      <td>R</td>\n",
       "      <td>False</td>\n",
       "      <td>True</td>\n",
       "      <td>Candidate self-financing</td>\n",
       "      <td>434656</td>\n",
       "      <td>0.2205</td>\n",
       "    </tr>\n",
       "    <tr>\n",
       "      <th>4</th>\n",
       "      <td>Alabama</td>\n",
       "      <td>AL01</td>\n",
       "      <td>Jerry Carl</td>\n",
       "      <td>R</td>\n",
       "      <td>False</td>\n",
       "      <td>True</td>\n",
       "      <td>Other</td>\n",
       "      <td>105470</td>\n",
       "      <td>0.0535</td>\n",
       "    </tr>\n",
       "    <tr>\n",
       "      <th>...</th>\n",
       "      <td>...</td>\n",
       "      <td>...</td>\n",
       "      <td>...</td>\n",
       "      <td>...</td>\n",
       "      <td>...</td>\n",
       "      <td>...</td>\n",
       "      <td>...</td>\n",
       "      <td>...</td>\n",
       "      <td>...</td>\n",
       "    </tr>\n",
       "    <tr>\n",
       "      <th>4465</th>\n",
       "      <td>Wyoming</td>\n",
       "      <td>WY01</td>\n",
       "      <td>Lynnette Grey Bull</td>\n",
       "      <td>D</td>\n",
       "      <td>False</td>\n",
       "      <td>False</td>\n",
       "      <td>Small Individual Contributions (≤ $200)</td>\n",
       "      <td>64222</td>\n",
       "      <td>0.4771</td>\n",
       "    </tr>\n",
       "    <tr>\n",
       "      <th>4466</th>\n",
       "      <td>Wyoming</td>\n",
       "      <td>WY01</td>\n",
       "      <td>Lynnette Grey Bull</td>\n",
       "      <td>D</td>\n",
       "      <td>False</td>\n",
       "      <td>False</td>\n",
       "      <td>Large Individual Contributions</td>\n",
       "      <td>65975</td>\n",
       "      <td>0.4902</td>\n",
       "    </tr>\n",
       "    <tr>\n",
       "      <th>4467</th>\n",
       "      <td>Wyoming</td>\n",
       "      <td>WY01</td>\n",
       "      <td>Lynnette Grey Bull</td>\n",
       "      <td>D</td>\n",
       "      <td>False</td>\n",
       "      <td>False</td>\n",
       "      <td>PAC Contributions*</td>\n",
       "      <td>2800</td>\n",
       "      <td>0.0208</td>\n",
       "    </tr>\n",
       "    <tr>\n",
       "      <th>4468</th>\n",
       "      <td>Wyoming</td>\n",
       "      <td>WY01</td>\n",
       "      <td>Lynnette Grey Bull</td>\n",
       "      <td>D</td>\n",
       "      <td>False</td>\n",
       "      <td>False</td>\n",
       "      <td>Candidate self-financing</td>\n",
       "      <td>0</td>\n",
       "      <td>0.0000</td>\n",
       "    </tr>\n",
       "    <tr>\n",
       "      <th>4469</th>\n",
       "      <td>Wyoming</td>\n",
       "      <td>WY01</td>\n",
       "      <td>Lynnette Grey Bull</td>\n",
       "      <td>D</td>\n",
       "      <td>False</td>\n",
       "      <td>False</td>\n",
       "      <td>Other</td>\n",
       "      <td>1600</td>\n",
       "      <td>0.0119</td>\n",
       "    </tr>\n",
       "  </tbody>\n",
       "</table>\n",
       "<p>4470 rows × 9 columns</p>\n",
       "</div>"
      ],
      "text/plain": [
       "        state district                name party  incumbent  winner  \\\n",
       "0     Alabama     AL01          Jerry Carl     R      False    True   \n",
       "1     Alabama     AL01          Jerry Carl     R      False    True   \n",
       "2     Alabama     AL01          Jerry Carl     R      False    True   \n",
       "3     Alabama     AL01          Jerry Carl     R      False    True   \n",
       "4     Alabama     AL01          Jerry Carl     R      False    True   \n",
       "...       ...      ...                 ...   ...        ...     ...   \n",
       "4465  Wyoming     WY01  Lynnette Grey Bull     D      False   False   \n",
       "4466  Wyoming     WY01  Lynnette Grey Bull     D      False   False   \n",
       "4467  Wyoming     WY01  Lynnette Grey Bull     D      False   False   \n",
       "4468  Wyoming     WY01  Lynnette Grey Bull     D      False   False   \n",
       "4469  Wyoming     WY01  Lynnette Grey Bull     D      False   False   \n",
       "\n",
       "                         type of contribution  amount  percentage  \n",
       "0     Small Individual Contributions (≤ $200)   44580      0.0226  \n",
       "1              Large Individual Contributions  999616      0.5071  \n",
       "2                          PAC Contributions*  387000      0.1963  \n",
       "3                    Candidate self-financing  434656      0.2205  \n",
       "4                                       Other  105470      0.0535  \n",
       "...                                       ...     ...         ...  \n",
       "4465  Small Individual Contributions (≤ $200)   64222      0.4771  \n",
       "4466           Large Individual Contributions   65975      0.4902  \n",
       "4467                       PAC Contributions*    2800      0.0208  \n",
       "4468                 Candidate self-financing       0      0.0000  \n",
       "4469                                    Other    1600      0.0119  \n",
       "\n",
       "[4470 rows x 9 columns]"
      ]
     },
     "execution_count": 5,
     "metadata": {},
     "output_type": "execute_result"
    }
   ],
   "source": [
    "# Read in source-of-funds data from Bonus\n",
    "SOF = pd.read_csv('../data/us_rep_source_of_funds.csv')\n",
    "SOF"
   ]
  },
  {
   "cell_type": "markdown",
   "id": "7c3fd553",
   "metadata": {
    "slideshow": {
     "slide_type": "slide"
    }
   },
   "source": [
    "# An Analysis of Political Contributions During the 2020 House of Representatives Election\n",
    "\n",
    "## By the Silver Sloths"
   ]
  },
  {
   "cell_type": "markdown",
   "id": "c10ecfda",
   "metadata": {
    "slideshow": {
     "slide_type": "slide"
    }
   },
   "source": [
    "# About the Data\n",
    "\n",
    "Our data is scraped from opensecrets.org.\n",
    "\n",
    "Our data contains:\n",
    "* Candidate's Party\n",
    "* State\n",
    "* District      \n",
    "* Whether the candidate was an incumbent\n",
    "* Whether the candidate won the race       \n",
    "* Total amount raised by that candidate\n",
    "* Total amount spent by the candidate"
   ]
  },
  {
   "cell_type": "markdown",
   "id": "0f8bd838",
   "metadata": {
    "slideshow": {
     "slide_type": "slide"
    }
   },
   "source": [
    "## How often does the candidate who raised more money win a race? "
   ]
  },
  {
   "cell_type": "code",
   "execution_count": 6,
   "id": "078a8c94",
   "metadata": {
    "slideshow": {
     "slide_type": "skip"
    }
   },
   "outputs": [],
   "source": [
    "# Function for comparing money column (either spent or raised) to election wins.\n",
    "\n",
    "def money_wins(money_col):\n",
    "    US['more'] = US[money_col] == US.groupby('district')[money_col].transform('max')\n",
    "\n",
    "    moneywins = US.groupby('more')['winner'].agg(['sum', 'mean']).reset_index(drop = False)\n",
    "    display(moneywins)\n",
    "\n",
    "    fig, ax = plt.subplots(figsize = (10,6))\n",
    "\n",
    "    sns.barplot(x = 'more',\n",
    "                y = 'sum',\n",
    "                data = moneywins,\n",
    "               )\n",
    "\n",
    "    ax.set(xlabel = f\"Candidate {money_col.capitalize()} Most\",\n",
    "           ylabel = \"Count\",\n",
    "           title = f\"Frequency of Most {money_col.capitalize()} Winning\"\n",
    "           )\n",
    "\n",
    "    def show_values_on_bars(axs):\n",
    "        def _show_on_single_plot(ax):        \n",
    "            for p in ax.patches:\n",
    "                _x = p.get_x() + p.get_width() / 2\n",
    "                _y = p.get_y() + p.get_height()\n",
    "                value = '{}'.format(p.get_height())\n",
    "                ax.text(_x, _y, value, ha=\"center\") \n",
    "\n",
    "        if isinstance(axs, np.ndarray):\n",
    "            for idx, ax in np.ndenumerate(axs):\n",
    "                _show_on_single_plot(ax)\n",
    "        else:\n",
    "            _show_on_single_plot(axs)\n",
    "\n",
    "    show_values_on_bars(ax)"
   ]
  },
  {
   "cell_type": "code",
   "execution_count": 7,
   "id": "3d650cf8",
   "metadata": {
    "hideCode": true,
    "slideshow": {
     "slide_type": "subslide"
    }
   },
   "outputs": [
    {
     "data": {
      "text/html": [
       "<div>\n",
       "<style scoped>\n",
       "    .dataframe tbody tr th:only-of-type {\n",
       "        vertical-align: middle;\n",
       "    }\n",
       "\n",
       "    .dataframe tbody tr th {\n",
       "        vertical-align: top;\n",
       "    }\n",
       "\n",
       "    .dataframe thead th {\n",
       "        text-align: right;\n",
       "    }\n",
       "</style>\n",
       "<table border=\"1\" class=\"dataframe\">\n",
       "  <thead>\n",
       "    <tr style=\"text-align: right;\">\n",
       "      <th></th>\n",
       "      <th>more</th>\n",
       "      <th>sum</th>\n",
       "      <th>mean</th>\n",
       "    </tr>\n",
       "  </thead>\n",
       "  <tbody>\n",
       "    <tr>\n",
       "      <th>0</th>\n",
       "      <td>False</td>\n",
       "      <td>47</td>\n",
       "      <td>0.102397</td>\n",
       "    </tr>\n",
       "    <tr>\n",
       "      <th>1</th>\n",
       "      <td>True</td>\n",
       "      <td>384</td>\n",
       "      <td>0.882759</td>\n",
       "    </tr>\n",
       "  </tbody>\n",
       "</table>\n",
       "</div>"
      ],
      "text/plain": [
       "    more  sum      mean\n",
       "0  False   47  0.102397\n",
       "1   True  384  0.882759"
      ]
     },
     "metadata": {},
     "output_type": "display_data"
    },
    {
     "data": {
      "image/png": "[encoded data removed]",
      "text/plain": [
       "<Figure size 720x432 with 1 Axes>"
      ]
     },
     "metadata": {
      "needs_background": "light"
     },
     "output_type": "display_data"
    }
   ],
   "source": [
    "money_wins('raised')"
   ]
  },
  {
   "cell_type": "markdown",
   "id": "0ff90e1b",
   "metadata": {
    "slideshow": {
     "slide_type": "-"
    }
   },
   "source": [
    "Candidates who raised the most money win their elections 88% of the time based on the data from the 2020 House of Representatives elections."
   ]
  },
  {
   "cell_type": "markdown",
   "id": "6da77160",
   "metadata": {
    "slideshow": {
     "slide_type": "slide"
    }
   },
   "source": [
    "## How often does the candidate who spent more money win a race? "
   ]
  },
  {
   "cell_type": "code",
   "execution_count": 8,
   "id": "060accd8",
   "metadata": {
    "hideCode": true,
    "slideshow": {
     "slide_type": "-"
    }
   },
   "outputs": [
    {
     "data": {
      "text/html": [
       "<div>\n",
       "<style scoped>\n",
       "    .dataframe tbody tr th:only-of-type {\n",
       "        vertical-align: middle;\n",
       "    }\n",
       "\n",
       "    .dataframe tbody tr th {\n",
       "        vertical-align: top;\n",
       "    }\n",
       "\n",
       "    .dataframe thead th {\n",
       "        text-align: right;\n",
       "    }\n",
       "</style>\n",
       "<table border=\"1\" class=\"dataframe\">\n",
       "  <thead>\n",
       "    <tr style=\"text-align: right;\">\n",
       "      <th></th>\n",
       "      <th>more</th>\n",
       "      <th>sum</th>\n",
       "      <th>mean</th>\n",
       "    </tr>\n",
       "  </thead>\n",
       "  <tbody>\n",
       "    <tr>\n",
       "      <th>0</th>\n",
       "      <td>False</td>\n",
       "      <td>50</td>\n",
       "      <td>0.108932</td>\n",
       "    </tr>\n",
       "    <tr>\n",
       "      <th>1</th>\n",
       "      <td>True</td>\n",
       "      <td>381</td>\n",
       "      <td>0.875862</td>\n",
       "    </tr>\n",
       "  </tbody>\n",
       "</table>\n",
       "</div>"
      ],
      "text/plain": [
       "    more  sum      mean\n",
       "0  False   50  0.108932\n",
       "1   True  381  0.875862"
      ]
     },
     "metadata": {},
     "output_type": "display_data"
    },
    {
     "data": {
      "image/png": "[encoded data removed]",
      "text/plain": [
       "<Figure size 720x432 with 1 Axes>"
      ]
     },
     "metadata": {
      "needs_background": "light"
     },
     "output_type": "display_data"
    }
   ],
   "source": [
    "money_wins('spent')"
   ]
  },
  {
   "cell_type": "markdown",
   "id": "18889f3e",
   "metadata": {
    "slideshow": {
     "slide_type": "-"
    }
   },
   "source": [
    "Candidates who spent the most money also win their elections 88% of the time based on the data from the 2020 House of Representatives elections."
   ]
  },
  {
   "cell_type": "markdown",
   "id": "2f164baa",
   "metadata": {
    "slideshow": {
     "slide_type": "slide"
    }
   },
   "source": [
    "## Does the difference between either money raised or money spent seem to influence the likelihood of a candidate winning a race?"
   ]
  },
  {
   "cell_type": "code",
   "execution_count": 9,
   "id": "805c9dd1",
   "metadata": {
    "hideCode": true,
    "slideshow": {
     "slide_type": "subslide"
    }
   },
   "outputs": [
    {
     "name": "stdout",
     "output_type": "stream",
     "text": [
      "                 Generalized Linear Model Regression Results                  \n",
      "==============================================================================\n",
      "Dep. Variable:                 winner   No. Observations:                  894\n",
      "Model:                            GLM   Df Residuals:                      892\n",
      "Model Family:                Binomial   Df Model:                            1\n",
      "Link Function:                  logit   Scale:                          1.0000\n",
      "Method:                          IRLS   Log-Likelihood:                -567.13\n",
      "Date:                Sat, 23 Oct 2021   Deviance:                       1134.3\n",
      "Time:                        11:02:39   Pearson chi2:                 1.03e+03\n",
      "No. Iterations:                     5                                         \n",
      "Covariance Type:            nonrobust                                         \n",
      "==============================================================================\n",
      "                 coef    std err          z      P>|z|      [0.025      0.975]\n",
      "------------------------------------------------------------------------------\n",
      "const         -0.6842      0.096     -7.147      0.000      -0.872      -0.497\n",
      "raised      3.813e-07   4.57e-08      8.336      0.000    2.92e-07    4.71e-07\n",
      "==============================================================================\n"
     ]
    }
   ],
   "source": [
    "# Build a Logistic regression model with target variable equal to if a candidate won the race or not, \n",
    "# predictor variable will be money raised\n",
    "raised_model = (sm.GLM(endog = US['winner'],\n",
    "                       exog = sm.add_constant(US[['raised']]),\n",
    "                       family = sm.families.Binomial())\n",
    "                .fit())\n",
    "\n",
    "print(raised_model.summary())"
   ]
  },
  {
   "cell_type": "code",
   "execution_count": 10,
   "id": "8b1decc6",
   "metadata": {
    "hideCode": true,
    "slideshow": {
     "slide_type": "subslide"
    }
   },
   "outputs": [
    {
     "name": "stdout",
     "output_type": "stream",
     "text": [
      "                 Generalized Linear Model Regression Results                  \n",
      "==============================================================================\n",
      "Dep. Variable:                 winner   No. Observations:                  894\n",
      "Model:                            GLM   Df Residuals:                      892\n",
      "Model Family:                Binomial   Df Model:                            1\n",
      "Link Function:                  logit   Scale:                          1.0000\n",
      "Method:                          IRLS   Log-Likelihood:                -581.62\n",
      "Date:                Sat, 23 Oct 2021   Deviance:                       1163.2\n",
      "Time:                        11:02:39   Pearson chi2:                     955.\n",
      "No. Iterations:                     5                                         \n",
      "Covariance Type:            nonrobust                                         \n",
      "==============================================================================\n",
      "                 coef    std err          z      P>|z|      [0.025      0.975]\n",
      "------------------------------------------------------------------------------\n",
      "const         -0.5552      0.091     -6.076      0.000      -0.734      -0.376\n",
      "spent       3.195e-07   4.39e-08      7.283      0.000    2.34e-07    4.05e-07\n",
      "==============================================================================\n"
     ]
    }
   ],
   "source": [
    "# Build a Logistic regression model with target variable equal to if a candidate won the race or not, \n",
    "# predictor variable will be money spent\n",
    "spent_model = (sm.GLM(endog = US['winner'],\n",
    "                      exog = sm.add_constant(US[['spent']]),\n",
    "                      family = sm.families.Binomial())\n",
    "               .fit())\n",
    "\n",
    "print(spent_model.summary())"
   ]
  },
  {
   "cell_type": "code",
   "execution_count": 11,
   "id": "f1e98f1b",
   "metadata": {
    "hideCode": true,
    "slideshow": {
     "slide_type": "subslide"
    }
   },
   "outputs": [
    {
     "data": {
      "image/png": "[encoded data removed]",
      "text/plain": [
       "<Figure size 648x432 with 1 Axes>"
      ]
     },
     "metadata": {
      "needs_background": "light"
     },
     "output_type": "display_data"
    }
   ],
   "source": [
    "# Plot Logistic regression model results from previous cells\n",
    "plt.subplots(figsize=(9,6))\n",
    "\n",
    "x_raised = US['raised']\n",
    "y_raised = 1 / (1 + (np.exp(-raised_model.params[0] - (raised_model.params[1]*x_raised))))\n",
    "plt.scatter(x_raised, y_raised)\n",
    "\n",
    "x_spent = US['spent']\n",
    "y_spent = 1 / (1 + (np.exp(-spent_model.params[0] - (spent_model.params[1]*x_spent))))\n",
    "plt.scatter(x_spent, y_spent)\n",
    "\n",
    "plt.xlabel(\"Money\")\n",
    "plt.ylabel(\"Probability of Winning Election\")\n",
    "plt.title(\"Logistic Regression Model for Candidates in the 2020 HOR Election\")\n",
    "plt.legend(['Money Raised', 'Money Spent']);"
   ]
  },
  {
   "cell_type": "markdown",
   "id": "6d1a8fb4",
   "metadata": {
    "slideshow": {
     "slide_type": "-"
    }
   },
   "source": [
    "Our models show us that as candidates raise and spend more money the probability of the candidate winning the race increases. From our results, it would seem that money raised and money spent are equally useful in predicting if a candidate will win their election or not."
   ]
  },
  {
   "cell_type": "markdown",
   "id": "0ae7cc14",
   "metadata": {
    "slideshow": {
     "slide_type": "slide"
    }
   },
   "source": [
    "## How often does the incumbent candidate win a race?"
   ]
  },
  {
   "cell_type": "code",
   "execution_count": 12,
   "id": "486f8cb1",
   "metadata": {
    "hideCode": true,
    "slideshow": {
     "slide_type": "-"
    }
   },
   "outputs": [
    {
     "data": {
      "text/html": [
       "<div>\n",
       "<style scoped>\n",
       "    .dataframe tbody tr th:only-of-type {\n",
       "        vertical-align: middle;\n",
       "    }\n",
       "\n",
       "    .dataframe tbody tr th {\n",
       "        vertical-align: top;\n",
       "    }\n",
       "\n",
       "    .dataframe thead th {\n",
       "        text-align: right;\n",
       "    }\n",
       "</style>\n",
       "<table border=\"1\" class=\"dataframe\">\n",
       "  <thead>\n",
       "    <tr style=\"text-align: right;\">\n",
       "      <th>winner</th>\n",
       "      <th>True</th>\n",
       "      <th>False</th>\n",
       "    </tr>\n",
       "    <tr>\n",
       "      <th>incumbent</th>\n",
       "      <th></th>\n",
       "      <th></th>\n",
       "    </tr>\n",
       "  </thead>\n",
       "  <tbody>\n",
       "    <tr>\n",
       "      <th>True</th>\n",
       "      <td>0.96114</td>\n",
       "      <td>0.03886</td>\n",
       "    </tr>\n",
       "    <tr>\n",
       "      <th>False</th>\n",
       "      <td>0.11811</td>\n",
       "      <td>0.88189</td>\n",
       "    </tr>\n",
       "  </tbody>\n",
       "</table>\n",
       "</div>"
      ],
      "text/plain": [
       "winner       True     False\n",
       "incumbent                  \n",
       "True       0.96114  0.03886\n",
       "False      0.11811  0.88189"
      ]
     },
     "metadata": {},
     "output_type": "display_data"
    }
   ],
   "source": [
    "# Group dataset by Incumbent status and if if they won the race or not\n",
    "incumbent_winners = US.groupby(['incumbent', 'winner']).size().unstack().iloc[::-1, ::-1]\n",
    "incumbent_winners.iloc[0] = incumbent_winners.iloc[0]/incumbent_winners.iloc[0].sum()\n",
    "incumbent_winners.iloc[1] = incumbent_winners.iloc[1]/incumbent_winners.iloc[1].sum()\n",
    "display(incumbent_winners)"
   ]
  },
  {
   "cell_type": "code",
   "execution_count": 13,
   "id": "37c37e9f",
   "metadata": {
    "hideCode": true,
    "slideshow": {
     "slide_type": "-"
    }
   },
   "outputs": [
    {
     "data": {
      "image/png": "[encoded data removed]",
      "text/plain": [
       "<Figure size 720x432 with 1 Axes>"
      ]
     },
     "metadata": {
      "needs_background": "light"
     },
     "output_type": "display_data"
    }
   ],
   "source": [
    "# Investigate how often the incumbent candidate wins a race\n",
    "fig, ax = plt.subplots(figsize=(10,6))\n",
    "ax.yaxis.set_major_formatter(mtick.PercentFormatter(xmax=1, decimals=None, symbol='%', is_latex=False))\n",
    "incumbent_winners.plot(kind='bar',\n",
    "                       rot=0,\n",
    "                       ax=ax)\n",
    "plt.title('Winning Status of Incumbent vs. Non-Incumbent Candidates in the 2020 HOR Election')\n",
    "plt.xlabel('Incumbent Status')\n",
    "plt.ylabel('% of Candidates')\n",
    "plt.xticks([0,1], ['Incumbent', 'Non-Incumbent'])\n",
    "plt.legend(['Won', 'Lost'], loc=1);"
   ]
  },
  {
   "cell_type": "markdown",
   "id": "190021b7",
   "metadata": {
    "slideshow": {
     "slide_type": "-"
    }
   },
   "source": [
    "Based on the 2020 House of Representative election data, incumbent candidates are highly likely to be re-elected. 96% of incumbent candidates from the 2020 House of Representatives elections were re-elected.\n",
    "\n",
    "On the other hand, it is very unlikely for a non-incumbent candidate to win their race. Only 12% of non-incumbent candidates from the 2020 House of Representatives elections won their race."
   ]
  },
  {
   "cell_type": "markdown",
   "id": "580c6d7f",
   "metadata": {
    "slideshow": {
     "slide_type": "slide"
    }
   },
   "source": [
    "## Can you detect any relationship between amount of money raised and the incumbent status of a candidate?"
   ]
  },
  {
   "cell_type": "markdown",
   "id": "a0432fb5",
   "metadata": {
    "slideshow": {
     "slide_type": "subslide"
    }
   },
   "source": [
    "### Histogram"
   ]
  },
  {
   "cell_type": "code",
   "execution_count": 14,
   "id": "45034d25",
   "metadata": {
    "hideCode": true,
    "slideshow": {
     "slide_type": "-"
    }
   },
   "outputs": [
    {
     "name": "stderr",
     "output_type": "stream",
     "text": [
      "C:\\Users\\jrior\\anaconda3\\lib\\site-packages\\pandas\\core\\arraylike.py:358: RuntimeWarning: invalid value encountered in log\n",
      "  result = getattr(ufunc, method)(*inputs, **kwargs)\n"
     ]
    },
    {
     "data": {
      "image/png": "[encoded data removed]",
      "text/plain": [
       "<Figure size 1440x432 with 2 Axes>"
      ]
     },
     "metadata": {
      "needs_background": "light"
     },
     "output_type": "display_data"
    }
   ],
   "source": [
    "fig, (ax1, ax2) = plt.subplots(1,2,figsize = (20, 6))\n",
    "\n",
    "sns.histplot(x = \"raised\", data=US, hue = 'incumbent', ax = ax1);\n",
    "sns.histplot(x = np.log(US[\"raised\"]), data=US, hue = 'incumbent', ax = ax2);"
   ]
  },
  {
   "cell_type": "markdown",
   "id": "c916d539",
   "metadata": {
    "slideshow": {
     "slide_type": "subslide"
    }
   },
   "source": [
    "### Scatter, Log-Scatter, and Point plot"
   ]
  },
  {
   "cell_type": "code",
   "execution_count": 15,
   "id": "509de763",
   "metadata": {
    "hideCode": true,
    "slideshow": {
     "slide_type": "-"
    }
   },
   "outputs": [
    {
     "name": "stderr",
     "output_type": "stream",
     "text": [
      "C:\\Users\\jrior\\anaconda3\\lib\\site-packages\\pandas\\core\\arraylike.py:358: RuntimeWarning: invalid value encountered in log\n",
      "  result = getattr(ufunc, method)(*inputs, **kwargs)\n"
     ]
    },
    {
     "data": {
      "image/png": "[encoded data removed]",
      "text/plain": [
       "<Figure size 1440x864 with 3 Axes>"
      ]
     },
     "metadata": {
      "needs_background": "light"
     },
     "output_type": "display_data"
    }
   ],
   "source": [
    "fig, (ax1, ax2, ax3) = plt.subplots(1,3,figsize = (20, 12))\n",
    "\n",
    "sns.stripplot(x=\"incumbent\", y=\"raised\", data=US, ax = ax1);\n",
    "ax1.axhline(US[US['incumbent'] == False]['raised'].mean())\n",
    "ax1.axhline(US[US['incumbent'] == True]['raised'].mean(), color = '#83A83B')\n",
    "\n",
    "sns.stripplot(x=\"incumbent\", y=np.log(US[\"raised\"]), data=US, ax = ax2);\n",
    "ax2.axhline(np.log(US[US['incumbent'] == False]['raised'].mean()))\n",
    "ax2.axhline(np.log(US[US['incumbent'] == True]['raised'].mean()), color = '#83A83B')\n",
    "\n",
    "sns.pointplot(x = 'incumbent', \n",
    "              y = 'raised', \n",
    "              data = US,\n",
    "              ax = ax3,\n",
    "              hue_order = [False, True],\n",
    "              palette = {False: '#3569B0', True:'#FF7F0E'}\n",
    "             );"
   ]
  },
  {
   "cell_type": "markdown",
   "id": "8e8d5d25",
   "metadata": {
    "slideshow": {
     "slide_type": "slide"
    }
   },
   "source": [
    "### Linear Models: Base Constant and Raised vs Incumbent"
   ]
  },
  {
   "cell_type": "markdown",
   "id": "d0f19eb4",
   "metadata": {
    "slideshow": {
     "slide_type": "subslide"
    }
   },
   "source": [
    "Here we construct a base model for comparative reference."
   ]
  },
  {
   "cell_type": "code",
   "execution_count": 16,
   "id": "b3422113",
   "metadata": {
    "hideCode": true,
    "slideshow": {
     "slide_type": "-"
    }
   },
   "outputs": [
    {
     "name": "stdout",
     "output_type": "stream",
     "text": [
      "                 Generalized Linear Model Regression Results                  \n",
      "==============================================================================\n",
      "Dep. Variable:                 raised   No. Observations:                  894\n",
      "Model:                            GLM   Df Residuals:                      893\n",
      "Model Family:                Gaussian   Df Model:                            0\n",
      "Link Function:               identity   Scale:                      9.1565e+12\n",
      "Method:                          IRLS   Log-Likelihood:                -14609.\n",
      "Date:                Sat, 23 Oct 2021   Deviance:                   8.1767e+15\n",
      "Time:                        11:02:41   Pearson chi2:                 8.18e+15\n",
      "No. Iterations:                     3                                         \n",
      "Covariance Type:            nonrobust                                         \n",
      "==============================================================================\n",
      "                 coef    std err          z      P>|z|      [0.025      0.975]\n",
      "------------------------------------------------------------------------------\n",
      "const       1.866e+06   1.01e+05     18.434      0.000    1.67e+06    2.06e+06\n",
      "============================================================================== \n",
      " Base AIC: 29219.92130876732\n"
     ]
    }
   ],
   "source": [
    "lin_reg_base = (sm.GLM(endog = US['raised'],\n",
    "                       exog = sm.add_constant(US[[]]),\n",
    "                       family = sm.families.Gaussian()\n",
    "                      )\n",
    "                .fit()\n",
    "               )\n",
    "\n",
    "print(lin_reg_base.summary(), '\\n', 'Base AIC: '+str(lin_reg_base.aic))"
   ]
  },
  {
   "cell_type": "markdown",
   "id": "cccb54dc",
   "metadata": {
    "slideshow": {
     "slide_type": "subslide"
    }
   },
   "source": [
    "The AIC is of the regression model is better (lower) than the base model's, if only slightly.\n",
    "\n",
    "You can't predict exact values from this model, but it does show that you can expect the incumbent to raise more money than the challenger."
   ]
  },
  {
   "cell_type": "code",
   "execution_count": 17,
   "id": "f693ec06",
   "metadata": {
    "hideCode": true,
    "slideshow": {
     "slide_type": "-"
    }
   },
   "outputs": [
    {
     "name": "stdout",
     "output_type": "stream",
     "text": [
      "                 Generalized Linear Model Regression Results                  \n",
      "==============================================================================\n",
      "Dep. Variable:                 raised   No. Observations:                  894\n",
      "Model:                            GLM   Df Residuals:                      892\n",
      "Model Family:                Gaussian   Df Model:                            1\n",
      "Link Function:               identity   Scale:                      8.4710e+12\n",
      "Method:                          IRLS   Log-Likelihood:                -14574.\n",
      "Date:                Sat, 23 Oct 2021   Deviance:                   7.5561e+15\n",
      "Time:                        11:02:41   Pearson chi2:                 7.56e+15\n",
      "No. Iterations:                     3                                         \n",
      "Covariance Type:            nonrobust                                         \n",
      "==============================================================================\n",
      "                 coef    std err          z      P>|z|      [0.025      0.975]\n",
      "------------------------------------------------------------------------------\n",
      "const       1.139e+06   1.29e+05      8.823      0.000    8.86e+05    1.39e+06\n",
      "incumbent   1.682e+06   1.97e+05      8.559      0.000     1.3e+06    2.07e+06\n",
      "============================================================================== \n",
      " Incumbent AIC: 29151.352772998413\n"
     ]
    }
   ],
   "source": [
    "lin_reg_incumb = (sm.GLM(endog = US['raised'],\n",
    "                       exog = sm.add_constant(US['incumbent'].astype('int')),\n",
    "                       family = sm.families.Gaussian()\n",
    "                      )\n",
    "                .fit()\n",
    "               )\n",
    "\n",
    "print(lin_reg_incumb.summary(), '\\n', 'Incumbent AIC: '+str(lin_reg_incumb.aic))"
   ]
  },
  {
   "cell_type": "markdown",
   "id": "1029fc41",
   "metadata": {
    "slideshow": {
     "slide_type": "slide"
    }
   },
   "source": [
    "# Sources of Funding"
   ]
  },
  {
   "cell_type": "code",
   "execution_count": 18,
   "id": "b53bf19f",
   "metadata": {
    "slideshow": {
     "slide_type": "skip"
    }
   },
   "outputs": [],
   "source": [
    "TOC = SOF.groupby('type of contribution', as_index = False)['amount'].sum()\n",
    "TOC['proportion'] = TOC['amount']/TOC['amount'].sum()\n",
    "TOC_party = SOF.groupby(['type of contribution', 'party'], as_index = False)['amount'].sum()"
   ]
  },
  {
   "cell_type": "markdown",
   "id": "10f325b5",
   "metadata": {
    "slideshow": {
     "slide_type": "subslide"
    }
   },
   "source": [
    "## What the overall distribution of funding sources look like?"
   ]
  },
  {
   "cell_type": "code",
   "execution_count": 19,
   "id": "9002dcee",
   "metadata": {
    "hideCode": true,
    "slideshow": {
     "slide_type": "-"
    }
   },
   "outputs": [
    {
     "data": {
      "image/png": "[encoded data removed]",
      "text/plain": [
       "<Figure size 720x432 with 1 Axes>"
      ]
     },
     "metadata": {
      "needs_background": "light"
     },
     "output_type": "display_data"
    },
    {
     "data": {
      "text/html": [
       "<div>\n",
       "<style scoped>\n",
       "    .dataframe tbody tr th:only-of-type {\n",
       "        vertical-align: middle;\n",
       "    }\n",
       "\n",
       "    .dataframe tbody tr th {\n",
       "        vertical-align: top;\n",
       "    }\n",
       "\n",
       "    .dataframe thead th {\n",
       "        text-align: right;\n",
       "    }\n",
       "</style>\n",
       "<table border=\"1\" class=\"dataframe\">\n",
       "  <thead>\n",
       "    <tr style=\"text-align: right;\">\n",
       "      <th></th>\n",
       "      <th>type of contribution</th>\n",
       "      <th>amount</th>\n",
       "      <th>proportion</th>\n",
       "    </tr>\n",
       "  </thead>\n",
       "  <tbody>\n",
       "    <tr>\n",
       "      <th>1</th>\n",
       "      <td>Large Individual Contributions</td>\n",
       "      <td>794772493</td>\n",
       "      <td>0.476499</td>\n",
       "    </tr>\n",
       "    <tr>\n",
       "      <th>4</th>\n",
       "      <td>Small Individual Contributions (≤ $200)</td>\n",
       "      <td>377748710</td>\n",
       "      <td>0.226476</td>\n",
       "    </tr>\n",
       "    <tr>\n",
       "      <th>3</th>\n",
       "      <td>PAC Contributions*</td>\n",
       "      <td>370225791</td>\n",
       "      <td>0.221966</td>\n",
       "    </tr>\n",
       "    <tr>\n",
       "      <th>2</th>\n",
       "      <td>Other</td>\n",
       "      <td>75481464</td>\n",
       "      <td>0.045254</td>\n",
       "    </tr>\n",
       "    <tr>\n",
       "      <th>0</th>\n",
       "      <td>Candidate self-financing</td>\n",
       "      <td>49711634</td>\n",
       "      <td>0.029804</td>\n",
       "    </tr>\n",
       "  </tbody>\n",
       "</table>\n",
       "</div>"
      ],
      "text/plain": [
       "                      type of contribution     amount  proportion\n",
       "1           Large Individual Contributions  794772493    0.476499\n",
       "4  Small Individual Contributions (≤ $200)  377748710    0.226476\n",
       "3                       PAC Contributions*  370225791    0.221966\n",
       "2                                    Other   75481464    0.045254\n",
       "0                 Candidate self-financing   49711634    0.029804"
      ]
     },
     "metadata": {},
     "output_type": "display_data"
    }
   ],
   "source": [
    "fig, ax = plt.subplots(figsize = (10,6))\n",
    "sns.barplot(y = 'type of contribution', \n",
    "            x = 'amount', \n",
    "            data = TOC,\n",
    "            orient = 'h',\n",
    "            order = TOC.sort_values('amount', ascending = False)['type of contribution'],\n",
    "            ax = ax\n",
    "           )\n",
    "plt.show()\n",
    "\n",
    "display(TOC.sort_values('amount', ascending = False))"
   ]
  },
  {
   "cell_type": "markdown",
   "id": "626d3107",
   "metadata": {
    "slideshow": {
     "slide_type": "subslide"
    }
   },
   "source": [
    "## Is there any detectable difference in contribution sources between Democrat and Republican?"
   ]
  },
  {
   "cell_type": "code",
   "execution_count": 20,
   "id": "28bbce0f",
   "metadata": {
    "slideshow": {
     "slide_type": "skip"
    }
   },
   "outputs": [],
   "source": [
    "TOC_DR = TOC_party[TOC_party['party'].isin(['D','R'])].copy()\n",
    "TOC_DR['party proportion amount'] = TOC_DR['amount']/TOC_DR.groupby('party')['amount'].transform('sum')"
   ]
  },
  {
   "cell_type": "code",
   "execution_count": 21,
   "id": "e9d9e914",
   "metadata": {
    "hideCode": true,
    "slideshow": {
     "slide_type": "-"
    }
   },
   "outputs": [
    {
     "data": {
      "image/png": "[encoded data removed]",
      "text/plain": [
       "<Figure size 1440x432 with 2 Axes>"
      ]
     },
     "metadata": {
      "needs_background": "light"
     },
     "output_type": "display_data"
    }
   ],
   "source": [
    "fig, (ax1, ax2) = plt.subplots(1, 2, figsize = (20,6))\n",
    "sns.barplot(y = 'type of contribution', \n",
    "            x = 'amount', \n",
    "            hue = 'party', \n",
    "            data = TOC_DR,\n",
    "            orient = 'h',\n",
    "            order = TOC.sort_values('amount', ascending = False)['type of contribution'],\n",
    "            ax = ax1\n",
    "           );\n",
    "sns.barplot(y = 'type of contribution', \n",
    "            x = 'party proportion amount', \n",
    "            hue = 'party', \n",
    "            data = TOC_DR,\n",
    "            orient = 'h',\n",
    "            order = TOC.sort_values('amount', ascending = False)['type of contribution'],\n",
    "            ax = ax2\n",
    "           );\n",
    "ax2.set(ylabel = None, yticks = [])\n",
    "plt.show()"
   ]
  },
  {
   "cell_type": "markdown",
   "id": "b94a0219",
   "metadata": {
    "slideshow": {
     "slide_type": "-"
    }
   },
   "source": [
    "On an absolute scale (left), Democrats tend to raise more money from Large Individual Contributions and PAC Contributions, while Republicans tend to raise (slightly) more money from Small Individual Contributions, Candidate Self-Financing, and Other sources.\n",
    "\n",
    "On a relative scale (right), both parties raise most of their money from Large Individual Contributions. Republican funds are more dependent upon Small Individual Contributions."
   ]
  },
  {
   "cell_type": "markdown",
   "id": "05fe6507",
   "metadata": {
    "slideshow": {
     "slide_type": "slide"
    }
   },
   "source": [
    "## Do the funding sources from the winning candidate or incumbent candidate differ from the other candidates?"
   ]
  },
  {
   "cell_type": "markdown",
   "id": "197a011f",
   "metadata": {
    "slideshow": {
     "slide_type": "subslide"
    }
   },
   "source": [
    "### Winner vs Losers (for lack of a better word)"
   ]
  },
  {
   "cell_type": "code",
   "execution_count": 22,
   "id": "5de40b00",
   "metadata": {
    "hideCode": true,
    "slideshow": {
     "slide_type": "-"
    }
   },
   "outputs": [
    {
     "data": {
      "image/png": "[encoded data removed]",
      "text/plain": [
       "<Figure size 1440x432 with 2 Axes>"
      ]
     },
     "metadata": {
      "needs_background": "light"
     },
     "output_type": "display_data"
    }
   ],
   "source": [
    "TOC_winner = SOF.groupby(['type of contribution', 'winner'], as_index = False)['amount'].sum()\n",
    "TOC_winner['proportion of amount'] = TOC_winner['amount']/TOC_winner.groupby('winner')['amount'].transform('sum')\n",
    "\n",
    "fig, (ax1, ax2) = plt.subplots(1, 2, figsize = (20,6))\n",
    "sns.barplot(y = 'type of contribution', \n",
    "            x = 'amount', \n",
    "            hue = 'winner', \n",
    "            data = TOC_winner,\n",
    "            orient = 'h',\n",
    "            order = TOC.sort_values('amount', ascending = False)['type of contribution'],\n",
    "            ax = ax1\n",
    "           );\n",
    "sns.barplot(y = 'type of contribution', \n",
    "            x = 'proportion of amount', \n",
    "            hue = 'winner', \n",
    "            data = TOC_winner,\n",
    "            orient = 'h',\n",
    "            order = TOC.sort_values('amount', ascending = False)['type of contribution'],\n",
    "            ax = ax2\n",
    "           );\n",
    "ax2.set(xlabel = 'proportion of winner/loser amount',\n",
    "        ylabel = None, \n",
    "        yticks = [])\n",
    "plt.show()"
   ]
  },
  {
   "cell_type": "markdown",
   "id": "b5f7ae9d",
   "metadata": {
    "slideshow": {
     "slide_type": "-"
    }
   },
   "source": [
    "As shown earlier, winners tend to be the candidates who raised (and spent) the most money. This is true for each contribution source on an absolute scale (left).\n",
    "\n",
    "On a relative scale (right), winners tended to have a much higher percentage of their funds come from PAC Contributions than losers."
   ]
  },
  {
   "cell_type": "markdown",
   "id": "e6ce0be9",
   "metadata": {
    "slideshow": {
     "slide_type": "subslide"
    }
   },
   "source": [
    "### Incumbent vs Challengers (for lack of a better word)"
   ]
  },
  {
   "cell_type": "code",
   "execution_count": 23,
   "id": "5c4dad39",
   "metadata": {
    "hideCode": true,
    "slideshow": {
     "slide_type": "-"
    }
   },
   "outputs": [
    {
     "data": {
      "image/png": "[encoded data removed]",
      "text/plain": [
       "<Figure size 1440x432 with 2 Axes>"
      ]
     },
     "metadata": {
      "needs_background": "light"
     },
     "output_type": "display_data"
    }
   ],
   "source": [
    "TOC_incumbent = SOF.groupby(['type of contribution', 'incumbent'], as_index = False)['amount'].sum()\n",
    "TOC_incumbent['proportion of amount'] = TOC_incumbent['amount']/TOC_incumbent.groupby('incumbent')['amount'].transform('sum')\n",
    "\n",
    "fig, (ax1, ax2) = plt.subplots(1, 2, figsize = (20,6))\n",
    "sns.barplot(y = 'type of contribution', \n",
    "            x = 'amount', \n",
    "            hue = 'incumbent', \n",
    "            data = TOC_incumbent,\n",
    "            orient = 'h',\n",
    "            order = TOC.sort_values('amount', ascending = False)['type of contribution'],\n",
    "            ax = ax1\n",
    "           );\n",
    "sns.barplot(y = 'type of contribution', \n",
    "            x = 'proportion of amount', \n",
    "            hue = 'incumbent', \n",
    "            data = TOC_incumbent,\n",
    "            orient = 'h',\n",
    "            order = TOC.sort_values('amount', ascending = False)['type of contribution'],\n",
    "            ax = ax2\n",
    "           );\n",
    "ax2.set(xlabel = 'proportion of incumbent/challenger amount',\n",
    "        ylabel = None, yticks = [])\n",
    "plt.show()"
   ]
  },
  {
   "cell_type": "markdown",
   "id": "1e6ec81a",
   "metadata": {
    "slideshow": {
     "slide_type": "-"
    }
   },
   "source": [
    "As expected, incumbents raised more money than challengers overall. Just as with the election winners, incumbents tend to be much more dependent upon PAC contributions than challengers.\n",
    "\n",
    "Challengers tend to rely upon self-financing much more than incumbents."
   ]
  }
 ],
 "metadata": {
  "celltoolbar": "Slideshow",
  "kernelspec": {
   "display_name": "Python 3",
   "language": "python",
   "name": "python3"
  },
  "language_info": {
   "codemirror_mode": {
    "name": "ipython",
    "version": 3
   },
   "file_extension": ".py",
   "mimetype": "text/x-python",
   "name": "python",
   "nbconvert_exporter": "python",
   "pygments_lexer": "ipython3",
   "version": "3.8.8"
  }
 },
 "nbformat": 4,
 "nbformat_minor": 5
}
