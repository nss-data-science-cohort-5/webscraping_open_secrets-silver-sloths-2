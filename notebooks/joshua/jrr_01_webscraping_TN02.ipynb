{
 "cells": [
  {
   "cell_type": "code",
   "execution_count": 2,
   "id": "51375db2",
   "metadata": {},
   "outputs": [],
   "source": [
    "import requests\n",
    "from bs4 import BeautifulSoup as BS\n",
    "import numpy as np\n",
    "import pandas as pd\n",
    "import re"
   ]
  },
  {
   "cell_type": "code",
   "execution_count": 3,
   "id": "c876fdde",
   "metadata": {},
   "outputs": [
    {
     "data": {
      "text/plain": [
       "<Response [200]>"
      ]
     },
     "execution_count": 3,
     "metadata": {},
     "output_type": "execute_result"
    }
   ],
   "source": [
    "# Get request\n",
    "URL = 'https://www.opensecrets.org/races/summary?cycle=2020&id=TN02&spec=N'\n",
    "\n",
    "response = requests.get(URL)\n",
    "response"
   ]
  },
  {
   "cell_type": "code",
   "execution_count": 4,
   "id": "9552793e",
   "metadata": {},
   "outputs": [],
   "source": [
    "# Get soup\n",
    "soup = BS(response.text)"
   ]
  },
  {
   "cell_type": "code",
   "execution_count": 5,
   "id": "ec2f9c99",
   "metadata": {},
   "outputs": [],
   "source": [
    "# Read table as dataframe\n",
    "TN02 = pd.read_html(str(soup.find('table')))[0]"
   ]
  },
  {
   "cell_type": "code",
   "execution_count": 6,
   "id": "308c970a",
   "metadata": {},
   "outputs": [],
   "source": [
    "# Make column titles lowercase\n",
    "TN02.columns = TN02.columns.str.lower()\n",
    "\n",
    "# Split candidate column and add named columns to TN02\n",
    "TN02[['name', 'party', 'incumbent', 'winner']] = TN02['candidate'].str.split(r'\\(|•', expand = True)\n",
    "\n",
    "# Drop candidate column and rearrange columns for readability\n",
    "TN02 = TN02.drop(columns = 'candidate')[['name', 'party','incumbent', 'winner', 'raised', 'spent']]\n",
    "\n",
    "# Clean the party column\n",
    "TN02['party'] = TN02['party'].str.replace(r'\\)', '', regex = True)\n",
    "\n",
    "# Clean and change types of raised and spent\n",
    "money_cols = ['raised', 'spent']\n",
    "for col in money_cols:\n",
    "    TN02[col] = TN02[col].str.replace(r'\\$|,', '', regex = True).astype('int')"
   ]
  },
  {
   "cell_type": "code",
   "execution_count": 7,
   "id": "a21d5659",
   "metadata": {},
   "outputs": [
    {
     "data": {
      "text/html": [
       "<div>\n",
       "<style scoped>\n",
       "    .dataframe tbody tr th:only-of-type {\n",
       "        vertical-align: middle;\n",
       "    }\n",
       "\n",
       "    .dataframe tbody tr th {\n",
       "        vertical-align: top;\n",
       "    }\n",
       "\n",
       "    .dataframe thead th {\n",
       "        text-align: right;\n",
       "    }\n",
       "</style>\n",
       "<table border=\"1\" class=\"dataframe\">\n",
       "  <thead>\n",
       "    <tr style=\"text-align: right;\">\n",
       "      <th></th>\n",
       "      <th>name</th>\n",
       "      <th>party</th>\n",
       "      <th>incumbent</th>\n",
       "      <th>winner</th>\n",
       "      <th>raised</th>\n",
       "      <th>spent</th>\n",
       "    </tr>\n",
       "  </thead>\n",
       "  <tbody>\n",
       "    <tr>\n",
       "      <th>0</th>\n",
       "      <td>Tim Burchett</td>\n",
       "      <td>R</td>\n",
       "      <td>Incumbent</td>\n",
       "      <td>Winner</td>\n",
       "      <td>1336276</td>\n",
       "      <td>878488</td>\n",
       "    </tr>\n",
       "    <tr>\n",
       "      <th>1</th>\n",
       "      <td>Renee Hoyos</td>\n",
       "      <td>D</td>\n",
       "      <td>None</td>\n",
       "      <td>None</td>\n",
       "      <td>812784</td>\n",
       "      <td>816793</td>\n",
       "    </tr>\n",
       "  </tbody>\n",
       "</table>\n",
       "</div>"
      ],
      "text/plain": [
       "            name party    incumbent   winner   raised   spent\n",
       "0  Tim Burchett    R     Incumbent    Winner  1336276  878488\n",
       "1   Renee Hoyos      D         None     None   812784  816793"
      ]
     },
     "execution_count": 7,
     "metadata": {},
     "output_type": "execute_result"
    }
   ],
   "source": [
    "TN02"
   ]
  },
  {
   "cell_type": "code",
   "execution_count": 8,
   "id": "4f879342",
   "metadata": {},
   "outputs": [],
   "source": [
    "TN02b = pd.read_html(str(soup.find('table')))[0]\n",
    "\n",
    "# Make column titles lowercase\n",
    "TN02b.columns = TN02b.columns.str.lower()\n",
    "\n",
    "# Split candidate column and add named columns to TN02\n",
    "TN02b['incumbent'] = TN02b['candidate'].str.contains(r'Incumbent')\n",
    "TN02b['winner'] = TN02b['candidate'].str.contains(r'Winner')\n",
    "TN02b['party'] = TN02b['candidate'].apply(lambda x: re.search(r'\\((.*?)\\)',x).group(1))\n",
    "TN02b['name'] = TN02b['candidate'].str.split(r'\\(.\\)', expand = True)[0]\n",
    "\n",
    "# Drop candidate column and rearrange columns for readability\n",
    "TN02b = TN02b.drop(columns = 'candidate')[['name', 'party','incumbent', 'winner', 'raised', 'spent']]\n",
    "\n",
    "# Clean the party column\n",
    "TN02b['party'] = TN02b['party'].str.replace(r'\\)', '', regex = True)\n",
    "\n",
    "# Clean and change types of raised and spent\n",
    "money_cols = ['raised', 'spent']\n",
    "for col in money_cols:\n",
    "    TN02b[col] = TN02b[col].str.replace(r'\\$|,', '', regex = True).astype('int')"
   ]
  },
  {
   "cell_type": "code",
   "execution_count": 9,
   "id": "172870f5",
   "metadata": {},
   "outputs": [
    {
     "data": {
      "text/html": [
       "<div>\n",
       "<style scoped>\n",
       "    .dataframe tbody tr th:only-of-type {\n",
       "        vertical-align: middle;\n",
       "    }\n",
       "\n",
       "    .dataframe tbody tr th {\n",
       "        vertical-align: top;\n",
       "    }\n",
       "\n",
       "    .dataframe thead th {\n",
       "        text-align: right;\n",
       "    }\n",
       "</style>\n",
       "<table border=\"1\" class=\"dataframe\">\n",
       "  <thead>\n",
       "    <tr style=\"text-align: right;\">\n",
       "      <th></th>\n",
       "      <th>name</th>\n",
       "      <th>party</th>\n",
       "      <th>incumbent</th>\n",
       "      <th>winner</th>\n",
       "      <th>raised</th>\n",
       "      <th>spent</th>\n",
       "    </tr>\n",
       "  </thead>\n",
       "  <tbody>\n",
       "    <tr>\n",
       "      <th>0</th>\n",
       "      <td>Tim Burchett</td>\n",
       "      <td>R</td>\n",
       "      <td>True</td>\n",
       "      <td>True</td>\n",
       "      <td>1336276</td>\n",
       "      <td>878488</td>\n",
       "    </tr>\n",
       "    <tr>\n",
       "      <th>1</th>\n",
       "      <td>Renee Hoyos</td>\n",
       "      <td>D</td>\n",
       "      <td>False</td>\n",
       "      <td>False</td>\n",
       "      <td>812784</td>\n",
       "      <td>816793</td>\n",
       "    </tr>\n",
       "  </tbody>\n",
       "</table>\n",
       "</div>"
      ],
      "text/plain": [
       "            name party  incumbent  winner   raised   spent\n",
       "0  Tim Burchett      R       True    True  1336276  878488\n",
       "1   Renee Hoyos      D      False   False   812784  816793"
      ]
     },
     "execution_count": 9,
     "metadata": {},
     "output_type": "execute_result"
    }
   ],
   "source": [
    "TN02b"
   ]
  },
  {
   "cell_type": "code",
   "execution_count": 46,
   "id": "b56ed505",
   "metadata": {},
   "outputs": [],
   "source": [
    "def candidate_info(df):\n",
    "    \"\"\"Extract candidate info from Open Secrets tables, then drop candidate column.\"\"\"\n",
    "    \n",
    "    df['incumbent'] = df['candidate'].str.contains(r'Incumbent')\n",
    "    df['winner'] = df['candidate'].str.contains(r'Winner')\n",
    "    df['party'] = df['candidate'].apply(lambda x: re.search(r'\\((.*?)\\)',x).group(1))\n",
    "    df['name'] = df['candidate'].str.split(r'\\(.\\)', expand = True)[0]\n",
    "    df = df.drop(columns = 'candidate')[['name', 'party','incumbent', 'winner', 'raised', 'spent']]\n",
    "\n",
    "    return df\n",
    "\n",
    "def clean_money(df):\n",
    "    \"\"\"Clean and conver the money columns\"\"\"\n",
    "    \n",
    "    money_cols = ['raised', 'spent']\n",
    "    for col in money_cols:\n",
    "        df[col] = df[col].str.replace(r'\\$|,', '', regex = True).astype('int')\n",
    "    \n",
    "    return df\n",
    "\n",
    "def format_os_table(df):\n",
    "    \"\"\"lowercase column names, extract candidate info, rearrange columns, and clean the money columns\"\"\"\n",
    "    \n",
    "    df.columns = df.columns.str.lower()\n",
    "    a = candidate_info(df)\n",
    "    b = clean_money(a)\n",
    "    \n",
    "    return b"
   ]
  },
  {
   "cell_type": "code",
   "execution_count": 47,
   "id": "91d97aca",
   "metadata": {},
   "outputs": [
    {
     "data": {
      "text/html": [
       "<div>\n",
       "<style scoped>\n",
       "    .dataframe tbody tr th:only-of-type {\n",
       "        vertical-align: middle;\n",
       "    }\n",
       "\n",
       "    .dataframe tbody tr th {\n",
       "        vertical-align: top;\n",
       "    }\n",
       "\n",
       "    .dataframe thead th {\n",
       "        text-align: right;\n",
       "    }\n",
       "</style>\n",
       "<table border=\"1\" class=\"dataframe\">\n",
       "  <thead>\n",
       "    <tr style=\"text-align: right;\">\n",
       "      <th></th>\n",
       "      <th>name</th>\n",
       "      <th>party</th>\n",
       "      <th>incumbent</th>\n",
       "      <th>winner</th>\n",
       "      <th>raised</th>\n",
       "      <th>spent</th>\n",
       "    </tr>\n",
       "  </thead>\n",
       "  <tbody>\n",
       "    <tr>\n",
       "      <th>0</th>\n",
       "      <td>Tim Burchett</td>\n",
       "      <td>R</td>\n",
       "      <td>True</td>\n",
       "      <td>True</td>\n",
       "      <td>1336276</td>\n",
       "      <td>878488</td>\n",
       "    </tr>\n",
       "    <tr>\n",
       "      <th>1</th>\n",
       "      <td>Renee Hoyos</td>\n",
       "      <td>D</td>\n",
       "      <td>False</td>\n",
       "      <td>False</td>\n",
       "      <td>812784</td>\n",
       "      <td>816793</td>\n",
       "    </tr>\n",
       "  </tbody>\n",
       "</table>\n",
       "</div>"
      ],
      "text/plain": [
       "            name party  incumbent  winner   raised   spent\n",
       "0  Tim Burchett      R       True    True  1336276  878488\n",
       "1   Renee Hoyos      D      False   False   812784  816793"
      ]
     },
     "execution_count": 47,
     "metadata": {},
     "output_type": "execute_result"
    }
   ],
   "source": [
    "TN02c = pd.read_html(str(soup.find('table')))[0]\n",
    "format_os_table(TN02c)"
   ]
  }
 ],
 "metadata": {
  "kernelspec": {
   "display_name": "Python 3",
   "language": "python",
   "name": "python3"
  },
  "language_info": {
   "codemirror_mode": {
    "name": "ipython",
    "version": 3
   },
   "file_extension": ".py",
   "mimetype": "text/x-python",
   "name": "python",
   "nbconvert_exporter": "python",
   "pygments_lexer": "ipython3",
   "version": "3.8.8"
  }
 },
 "nbformat": 4,
 "nbformat_minor": 5
}
